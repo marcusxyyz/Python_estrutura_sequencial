{
  "nbformat": 4,
  "nbformat_minor": 0,
  "metadata": {
    "colab": {
      "name": "Exercicio18.ipynb",
      "provenance": [],
      "collapsed_sections": [],
      "authorship_tag": "ABX9TyM+onUnQ+/si4ZhsC3YjDAf",
      "include_colab_link": true
    },
    "kernelspec": {
      "name": "python3",
      "display_name": "Python 3"
    },
    "language_info": {
      "name": "python"
    }
  },
  "cells": [
    {
      "cell_type": "markdown",
      "metadata": {
        "id": "view-in-github",
        "colab_type": "text"
      },
      "source": [
        "<a href=\"https://colab.research.google.com/github/marcusxyyz/Python_estrutura_sequencial/blob/main/Exercicio18.ipynb\" target=\"_parent\"><img src=\"https://colab.research.google.com/assets/colab-badge.svg\" alt=\"Open In Colab\"/></a>"
      ]
    },
    {
      "cell_type": "markdown",
      "source": [
        "Faça um programa que peça o tamanho de um arquivo para download (em MB) e a velocidade de um link de Internet (em Mbps), calcule e informe o tempo aproximado de download do arquivo usando este link (em minutos)."
      ],
      "metadata": {
        "id": "zWvTuzDOUao4"
      }
    },
    {
      "cell_type": "code",
      "execution_count": 2,
      "metadata": {
        "colab": {
          "base_uri": "https://localhost:8080/"
        },
        "id": "1JL9CdB2UYPQ",
        "outputId": "69015250-24bd-4e1c-fb97-64913e5696b3"
      },
      "outputs": [
        {
          "name": "stdout",
          "output_type": "stream",
          "text": [
            "Tamanho do arquivo em MB: 10\n",
            "Velocidade do link de internet: 5\n"
          ]
        }
      ],
      "source": [
        "tamanho = float(input('Tamanho do arquivo em MB: '))\n",
        "velocidade = float(input('Velocidade do link de internet: '))"
      ]
    },
    {
      "cell_type": "code",
      "source": [
        "tempo = tamanho / (velocidade / 8)\n",
        "tempo_minutos = tempo / 60\n",
        "print(f'Tempo de download = {round(tempo)} segundos')\n",
        "print(f'Tempo de download = {round(tempo_minutos, 2)} minutos')"
      ],
      "metadata": {
        "colab": {
          "base_uri": "https://localhost:8080/"
        },
        "id": "9kIGjLzQVAzw",
        "outputId": "84675c60-443a-42bb-978c-60fd1681bdb7"
      },
      "execution_count": 6,
      "outputs": [
        {
          "output_type": "stream",
          "name": "stdout",
          "text": [
            "Tempo de download = 16 segundos\n",
            "Tempo de download = 0.27 minutos\n"
          ]
        }
      ]
    }
  ]
}