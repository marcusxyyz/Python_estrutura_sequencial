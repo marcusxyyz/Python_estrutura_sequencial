{
  "nbformat": 4,
  "nbformat_minor": 0,
  "metadata": {
    "colab": {
      "name": "Exercicio03.ipynb",
      "provenance": [],
      "authorship_tag": "ABX9TyN+i2zC8EPgn+8QAaYfMNaL",
      "include_colab_link": true
    },
    "kernelspec": {
      "name": "python3",
      "display_name": "Python 3"
    },
    "language_info": {
      "name": "python"
    }
  },
  "cells": [
    {
      "cell_type": "markdown",
      "metadata": {
        "id": "view-in-github",
        "colab_type": "text"
      },
      "source": [
        "<a href=\"https://colab.research.google.com/github/marcusxyyz/Python_estrutura_sequencial/blob/main/Exercicio03.ipynb\" target=\"_parent\"><img src=\"https://colab.research.google.com/assets/colab-badge.svg\" alt=\"Open In Colab\"/></a>"
      ]
    },
    {
      "cell_type": "markdown",
      "source": [
        "Faça um Programa que peça dois números e imprima a soma."
      ],
      "metadata": {
        "id": "FDnwgtAt2ZUV"
      }
    },
    {
      "cell_type": "code",
      "execution_count": 1,
      "metadata": {
        "colab": {
          "base_uri": "https://localhost:8080/"
        },
        "id": "yHWiF-I52UWa",
        "outputId": "9108ab5e-1eca-4031-c527-284a9e42ab6a"
      },
      "outputs": [
        {
          "name": "stdout",
          "output_type": "stream",
          "text": [
            "Digite o primeiro número: 5\n",
            "Digite o segundo número: 10\n"
          ]
        }
      ],
      "source": [
        "n1 = int(input('Digite o primeiro número: '))\n",
        "n2 = int(input('Digite o segundo número: '))\n",
        "soma = n1 + n2"
      ]
    },
    {
      "cell_type": "code",
      "source": [
        "print(f'Soma = {soma}')"
      ],
      "metadata": {
        "colab": {
          "base_uri": "https://localhost:8080/"
        },
        "id": "EoOSFTZh2uL8",
        "outputId": "5b7d4990-50d7-4c1b-dda6-3a5b8a3dbbb8"
      },
      "execution_count": 2,
      "outputs": [
        {
          "output_type": "stream",
          "name": "stdout",
          "text": [
            "Soma = 15\n"
          ]
        }
      ]
    }
  ]
}