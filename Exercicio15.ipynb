{
  "nbformat": 4,
  "nbformat_minor": 0,
  "metadata": {
    "colab": {
      "name": "Exercicio15.ipynb",
      "provenance": [],
      "collapsed_sections": [],
      "authorship_tag": "ABX9TyMlho3vnOSIztFX0MEZqF+D",
      "include_colab_link": true
    },
    "kernelspec": {
      "name": "python3",
      "display_name": "Python 3"
    },
    "language_info": {
      "name": "python"
    }
  },
  "cells": [
    {
      "cell_type": "markdown",
      "metadata": {
        "id": "view-in-github",
        "colab_type": "text"
      },
      "source": [
        "<a href=\"https://colab.research.google.com/github/marcusxyyz/Python_estrutura_sequencial/blob/main/Exercicio15.ipynb\" target=\"_parent\"><img src=\"https://colab.research.google.com/assets/colab-badge.svg\" alt=\"Open In Colab\"/></a>"
      ]
    },
    {
      "cell_type": "markdown",
      "source": [
        "Faça um Programa que pergunte quanto você ganha por hora e o número de horas trabalhadas no mês. Calcule e mostre o total do seu salário no referido mês, sabendo-se que são descontados 11% para o Imposto de Renda, 8% para o INSS e 5% para o sindicato, faça um programa que nos dê:\n",
        "\n",
        "a - salário bruto.\n",
        "\n",
        "b - quanto pagou ao INSS.\n",
        "\n",
        "c - quanto pagou ao sindicato.\n",
        "\n",
        "d - o salário líquido.\n",
        "\n",
        "e - calcule os descontos e o salário líquido, conforme a tabela abaixo:\n",
        "\n",
        "+ Salário Bruto : R$\n",
        "\n",
        "- IR (11%) : R$\n",
        "\n",
        "- INSS (8%) : R$\n",
        "\n",
        "- Sindicato ( 5%) : R$\n",
        "\n",
        "- Salário Liquido : R$\n",
        "\n",
        "Obs.: Salário Bruto - Descontos = Salário Líquido."
      ],
      "metadata": {
        "id": "STVOG2iEKn_7"
      }
    },
    {
      "cell_type": "code",
      "execution_count": 3,
      "metadata": {
        "colab": {
          "base_uri": "https://localhost:8080/"
        },
        "id": "jfzM_VUeKiyk",
        "outputId": "3d295577-75de-4503-9369-51ddb9d3027e"
      },
      "outputs": [
        {
          "name": "stdout",
          "output_type": "stream",
          "text": [
            "Quantos você ganha por hora? 7.00\n",
            "Horas trabalhadas no mês: 400\n"
          ]
        }
      ],
      "source": [
        "valor_por_hora = float(input('Quantos você ganha por hora? '))\n",
        "horas_trabalhadas = int(input('Horas trabalhadas no mês: '))\n",
        "\n",
        "salario_bruto = valor_por_hora * horas_trabalhadas\n",
        "ir = salario_bruto * 0.11\n",
        "inss = salario_bruto * 0.08\n",
        "sindicato = salario_bruto * 0.05\n",
        "salario_liquido = salario_bruto - ir - inss - sindicato"
      ]
    },
    {
      "cell_type": "code",
      "source": [
        "print(f'Salario Bruto: R$ {round(salario_bruto, 2)}')\n",
        "print(f'Imposto de Renda: R$ {round(ir, 2)}')\n",
        "print(f'Inss R$ {round(inss, 2)}')\n",
        "print(f'Sindicato: R$ {round(sindicato, 2)}')\n",
        "print(f'Salario Liquido: R$ {round(salario_liquido, 2)}')"
      ],
      "metadata": {
        "colab": {
          "base_uri": "https://localhost:8080/"
        },
        "id": "tKyOrpxdMXUB",
        "outputId": "a4c98fb1-c2a4-49a0-c1aa-89dc55f3ea16"
      },
      "execution_count": 4,
      "outputs": [
        {
          "output_type": "stream",
          "name": "stdout",
          "text": [
            "Salario Bruto: R$ 2800.0\n",
            "Imposto de Renda: R$ 308.0\n",
            "Inss R$ 224.0\n",
            "Sindicato: R$ 140.0\n",
            "Salario Liquido: R$ 2128.0\n"
          ]
        }
      ]
    }
  ]
}