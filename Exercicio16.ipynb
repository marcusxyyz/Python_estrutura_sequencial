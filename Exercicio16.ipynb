{
  "nbformat": 4,
  "nbformat_minor": 0,
  "metadata": {
    "colab": {
      "name": "Exercicio16.ipynb",
      "provenance": [],
      "collapsed_sections": [],
      "authorship_tag": "ABX9TyOnd2rJO3rpg04vQ8Ydv4QI",
      "include_colab_link": true
    },
    "kernelspec": {
      "name": "python3",
      "display_name": "Python 3"
    },
    "language_info": {
      "name": "python"
    }
  },
  "cells": [
    {
      "cell_type": "markdown",
      "metadata": {
        "id": "view-in-github",
        "colab_type": "text"
      },
      "source": [
        "<a href=\"https://colab.research.google.com/github/marcusxyyz/Python_estrutura_sequencial/blob/main/Exercicio16.ipynb\" target=\"_parent\"><img src=\"https://colab.research.google.com/assets/colab-badge.svg\" alt=\"Open In Colab\"/></a>"
      ]
    },
    {
      "cell_type": "markdown",
      "source": [
        "Faça um programa para uma loja de tintas. O programa deverá pedir o tamanho em metros quadrados da área a ser pintada. Considere que a cobertura da tinta é de 1 litro para cada 3 metros quadrados e que a tinta é vendida em latas de 18 litros, que custam R$ 80,00. Informe ao usuário a quantidades de latas de tinta a serem compradas e o preço total."
      ],
      "metadata": {
        "id": "IbNZ_XhNNqLy"
      }
    },
    {
      "cell_type": "code",
      "execution_count": 6,
      "metadata": {
        "colab": {
          "base_uri": "https://localhost:8080/"
        },
        "id": "ml_qBlGJNoO0",
        "outputId": "13098916-096c-43c7-b0c0-643f85ecb363"
      },
      "outputs": [
        {
          "name": "stdout",
          "output_type": "stream",
          "text": [
            "Tamanho em metros quadrados a ser pintada: 200\n"
          ]
        }
      ],
      "source": [
        "metros_quadrados = float(input('Tamanho em metros quadrados a ser pintada: '))\n",
        "qtd_latas = metros_quadrados / 3 / 18.0\n",
        "valor_lata = 80.00\n",
        "valor_total = int(qtd_latas) * valor_lata"
      ]
    },
    {
      "cell_type": "code",
      "source": [
        "print(f'Quantidade de latas são {int(qtd_latas)}')\n",
        "print(f'Preco = R$ {round(valor_total, 2)}')"
      ],
      "metadata": {
        "colab": {
          "base_uri": "https://localhost:8080/"
        },
        "id": "7yjZdNZqPKaZ",
        "outputId": "31f66b17-0a62-4985-c38a-fe2a7b6d3214"
      },
      "execution_count": 8,
      "outputs": [
        {
          "output_type": "stream",
          "name": "stdout",
          "text": [
            "Quantidade de latas são 3\n",
            "Preco = R$ 240.0\n"
          ]
        }
      ]
    }
  ]
}