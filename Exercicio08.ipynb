{
  "nbformat": 4,
  "nbformat_minor": 0,
  "metadata": {
    "colab": {
      "name": "Exercicio08.ipynb",
      "provenance": [],
      "authorship_tag": "ABX9TyO2sD8L8n5UobjxHzwxpsy0",
      "include_colab_link": true
    },
    "kernelspec": {
      "name": "python3",
      "display_name": "Python 3"
    },
    "language_info": {
      "name": "python"
    }
  },
  "cells": [
    {
      "cell_type": "markdown",
      "metadata": {
        "id": "view-in-github",
        "colab_type": "text"
      },
      "source": [
        "<a href=\"https://colab.research.google.com/github/marcusxyyz/Python_estrutura_sequencial/blob/main/Exercicio08.ipynb\" target=\"_parent\"><img src=\"https://colab.research.google.com/assets/colab-badge.svg\" alt=\"Open In Colab\"/></a>"
      ]
    },
    {
      "cell_type": "markdown",
      "source": [
        "Faça um Programa que pergunte quanto você ganha por hora e o número de horas trabalhadas no mês. Calcule e mostre o total do seu salário no referido mês"
      ],
      "metadata": {
        "id": "4sU3-QHD8DA2"
      }
    },
    {
      "cell_type": "code",
      "execution_count": 2,
      "metadata": {
        "colab": {
          "base_uri": "https://localhost:8080/"
        },
        "id": "nRCGOeiU7_0m",
        "outputId": "e5c78640-7d68-4020-b6c2-13f30a1a2768"
      },
      "outputs": [
        {
          "name": "stdout",
          "output_type": "stream",
          "text": [
            "Quanto você ganha por hora? 7.00\n",
            "Horas trabalhadas no mês: 400\n"
          ]
        }
      ],
      "source": [
        "valor_por_hora = float(input('Quanto você ganha por hora? '))\n",
        "horas_trabalhadas = int(input('Horas trabalhadas no mês: '))"
      ]
    },
    {
      "cell_type": "code",
      "source": [
        "salario = valor_por_hora * horas_trabalhadas\n",
        "print(f'Salario: R$ {round(salario,2)}')"
      ],
      "metadata": {
        "colab": {
          "base_uri": "https://localhost:8080/"
        },
        "id": "UtRp0VEa8iyE",
        "outputId": "f3652813-4dd2-442a-ff5f-aeee9c2aa293"
      },
      "execution_count": 6,
      "outputs": [
        {
          "output_type": "stream",
          "name": "stdout",
          "text": [
            "Salario: R$ 2800.0\n"
          ]
        }
      ]
    }
  ]
}