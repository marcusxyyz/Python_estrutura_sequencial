{
  "nbformat": 4,
  "nbformat_minor": 0,
  "metadata": {
    "colab": {
      "name": "exercicio02.ipynb",
      "provenance": [],
      "authorship_tag": "ABX9TyMofs2H0ZiZ3D4PWaCysd4R"
    },
    "kernelspec": {
      "name": "python3",
      "display_name": "Python 3"
    },
    "language_info": {
      "name": "python"
    }
  },
  "cells": [
    {
      "cell_type": "markdown",
      "source": [
        "Faça um Programa que peça um número e então mostre a mensagem O número informado foi **[número]**."
      ],
      "metadata": {
        "id": "niiElCXF1UNO"
      }
    },
    {
      "cell_type": "code",
      "execution_count": 1,
      "metadata": {
        "colab": {
          "base_uri": "https://localhost:8080/"
        },
        "id": "aUyAyWEq1SEV",
        "outputId": "aea76ced-db99-4399-b9f4-1a08ca46d89d"
      },
      "outputs": [
        {
          "name": "stdout",
          "output_type": "stream",
          "text": [
            "Informe um número: 20\n"
          ]
        }
      ],
      "source": [
        "numero = int(input('Informe um número: '))"
      ]
    },
    {
      "cell_type": "code",
      "source": [
        "print(f'O número informado foi {numero}.')"
      ],
      "metadata": {
        "colab": {
          "base_uri": "https://localhost:8080/"
        },
        "id": "1mAbd6vK1nJt",
        "outputId": "6be0ed63-e650-4aa7-c217-07da458b25e9"
      },
      "execution_count": 3,
      "outputs": [
        {
          "output_type": "stream",
          "name": "stdout",
          "text": [
            "O número informado foi 20.\n"
          ]
        }
      ]
    }
  ]
}
