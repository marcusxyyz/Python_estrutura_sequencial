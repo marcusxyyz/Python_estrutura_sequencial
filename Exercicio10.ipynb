{
  "nbformat": 4,
  "nbformat_minor": 0,
  "metadata": {
    "colab": {
      "name": "Exercicio10.ipynb",
      "provenance": [],
      "collapsed_sections": [],
      "authorship_tag": "ABX9TyPo/sYXF03e6NfO+Flqr3fd",
      "include_colab_link": true
    },
    "kernelspec": {
      "name": "python3",
      "display_name": "Python 3"
    },
    "language_info": {
      "name": "python"
    }
  },
  "cells": [
    {
      "cell_type": "markdown",
      "metadata": {
        "id": "view-in-github",
        "colab_type": "text"
      },
      "source": [
        "<a href=\"https://colab.research.google.com/github/marcusxyyz/Python_estrutura_sequencial/blob/main/Exercicio10.ipynb\" target=\"_parent\"><img src=\"https://colab.research.google.com/assets/colab-badge.svg\" alt=\"Open In Colab\"/></a>"
      ]
    },
    {
      "cell_type": "markdown",
      "source": [
        "Faça um Programa que peça a temperatura em graus Celsius, transforme e mostre em graus Fahrenheit"
      ],
      "metadata": {
        "id": "lulyPvUU-Dgc"
      }
    },
    {
      "cell_type": "code",
      "execution_count": 13,
      "metadata": {
        "colab": {
          "base_uri": "https://localhost:8080/"
        },
        "id": "cBuKM_oa9-6h",
        "outputId": "9035788d-1914-4879-f7cd-ed7a5883cc41"
      },
      "outputs": [
        {
          "name": "stdout",
          "output_type": "stream",
          "text": [
            "Informe a temperatura em graus Celsius: 20.0\n"
          ]
        }
      ],
      "source": [
        "c = float(input('Informe a temperatura em graus Celsius: '))"
      ]
    },
    {
      "cell_type": "code",
      "source": [
        "f = c * 9 / 5 + 32\n",
        "print(f'Fahrenheit: {round(f,2)}')"
      ],
      "metadata": {
        "colab": {
          "base_uri": "https://localhost:8080/"
        },
        "id": "5QYLs1od-Wbk",
        "outputId": "d8419ad0-6d22-46e4-bbc6-578918c76971"
      },
      "execution_count": 14,
      "outputs": [
        {
          "output_type": "stream",
          "name": "stdout",
          "text": [
            "Fahrenheit: 68.0\n"
          ]
        }
      ]
    }
  ]
}