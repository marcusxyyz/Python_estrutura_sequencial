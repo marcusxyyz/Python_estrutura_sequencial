{
  "nbformat": 4,
  "nbformat_minor": 0,
  "metadata": {
    "colab": {
      "name": "Exercicio09.ipynb",
      "provenance": [],
      "collapsed_sections": [],
      "authorship_tag": "ABX9TyOGQAieWftw/gIQNH6hJeEM",
      "include_colab_link": true
    },
    "kernelspec": {
      "name": "python3",
      "display_name": "Python 3"
    },
    "language_info": {
      "name": "python"
    }
  },
  "cells": [
    {
      "cell_type": "markdown",
      "metadata": {
        "id": "view-in-github",
        "colab_type": "text"
      },
      "source": [
        "<a href=\"https://colab.research.google.com/github/marcusxyyz/Python_estrutura_sequencial/blob/main/Exercicio09.ipynb\" target=\"_parent\"><img src=\"https://colab.research.google.com/assets/colab-badge.svg\" alt=\"Open In Colab\"/></a>"
      ]
    },
    {
      "cell_type": "markdown",
      "source": [
        "Faça um Programa que peça a temperatura em graus Fahrenheit, transforme e mostre a temperatura em graus Celsius.\n",
        "\n",
        "C = 5 * ((F-32) / 9)."
      ],
      "metadata": {
        "id": "yXaSjgl09CWl"
      }
    },
    {
      "cell_type": "code",
      "execution_count": 4,
      "metadata": {
        "colab": {
          "base_uri": "https://localhost:8080/"
        },
        "id": "xN6OysAS9Bla",
        "outputId": "7ce45576-cb45-47f5-ad0a-eeea109d3e10"
      },
      "outputs": [
        {
          "name": "stdout",
          "output_type": "stream",
          "text": [
            "Informe a temperatura em graus Fahrenheit: 3200\n"
          ]
        }
      ],
      "source": [
        "f = float(input('Informe a temperatura em graus Fahrenheit: '))"
      ]
    },
    {
      "cell_type": "code",
      "source": [
        "c = 5 * ((f - 32)/ 9.0)\n",
        "print(f'Celsius: {round(c, 2)}')"
      ],
      "metadata": {
        "colab": {
          "base_uri": "https://localhost:8080/"
        },
        "id": "IP1fc99u9hw0",
        "outputId": "c5d35e32-b5a7-42e3-f875-de5b02f2c0e3"
      },
      "execution_count": 5,
      "outputs": [
        {
          "output_type": "stream",
          "name": "stdout",
          "text": [
            "Celsius: 1760.0\n"
          ]
        }
      ]
    }
  ]
}