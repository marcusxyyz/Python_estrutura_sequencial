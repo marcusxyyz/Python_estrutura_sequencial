{
  "nbformat": 4,
  "nbformat_minor": 0,
  "metadata": {
    "colab": {
      "name": "Exercicio13.ipynb",
      "provenance": [],
      "authorship_tag": "ABX9TyPWwn8KIREvkIbDkrE/UWbY",
      "include_colab_link": true
    },
    "kernelspec": {
      "name": "python3",
      "display_name": "Python 3"
    },
    "language_info": {
      "name": "python"
    }
  },
  "cells": [
    {
      "cell_type": "markdown",
      "metadata": {
        "id": "view-in-github",
        "colab_type": "text"
      },
      "source": [
        "<a href=\"https://colab.research.google.com/github/marcusxyyz/Python_estrutura_sequencial/blob/main/Exercicio13.ipynb\" target=\"_parent\"><img src=\"https://colab.research.google.com/assets/colab-badge.svg\" alt=\"Open In Colab\"/></a>"
      ]
    },
    {
      "cell_type": "markdown",
      "source": [
        "Tendo como dado de entrada a altura (h) de uma pessoa, construa um algoritmo que calcule seu peso ideal, utilizando as seguintes fórmulas:\n",
        "Para homens: (72.7*h) - 58\n",
        "Para mulheres: (62.1*h) - 44.7"
      ],
      "metadata": {
        "id": "aihYNDPnIB-z"
      }
    },
    {
      "cell_type": "code",
      "execution_count": 1,
      "metadata": {
        "colab": {
          "base_uri": "https://localhost:8080/"
        },
        "id": "ri89Ze_dH_pD",
        "outputId": "c6433a4f-393e-451c-be9a-881bd7d15168"
      },
      "outputs": [
        {
          "name": "stdout",
          "output_type": "stream",
          "text": [
            "Informe sua altura: 1.80\n"
          ]
        }
      ],
      "source": [
        "h = float(input('Informe sua altura: '))\n",
        "homens = (72.7 * h) - 58.0\n",
        "mulheres = (62.1 * h) - 44.7"
      ]
    },
    {
      "cell_type": "code",
      "source": [
        "print(f'Peso ideal masculino: {round(homens, 2)} kg')\n",
        "print(f'Peso ideal feminino: {round(mulheres, 2)} kg')"
      ],
      "metadata": {
        "colab": {
          "base_uri": "https://localhost:8080/"
        },
        "id": "BmqmHRvqIZ6a",
        "outputId": "fb6e76b0-21bf-4f4d-a827-10a6079591a8"
      },
      "execution_count": 3,
      "outputs": [
        {
          "output_type": "stream",
          "name": "stdout",
          "text": [
            "Peso ideal masculino: 72.86 kg\n",
            "Peso ideal feminino: 67.08 kg\n"
          ]
        }
      ]
    }
  ]
}