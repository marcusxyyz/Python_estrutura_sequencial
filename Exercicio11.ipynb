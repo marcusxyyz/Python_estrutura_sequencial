{
  "nbformat": 4,
  "nbformat_minor": 0,
  "metadata": {
    "colab": {
      "name": "Exercicio11.ipynb",
      "provenance": [],
      "collapsed_sections": [],
      "authorship_tag": "ABX9TyMz5ExZrT6OT8ueYcXnvSDD",
      "include_colab_link": true
    },
    "kernelspec": {
      "name": "python3",
      "display_name": "Python 3"
    },
    "language_info": {
      "name": "python"
    }
  },
  "cells": [
    {
      "cell_type": "markdown",
      "metadata": {
        "id": "view-in-github",
        "colab_type": "text"
      },
      "source": [
        "<a href=\"https://colab.research.google.com/github/marcusxyyz/Python_estrutura_sequencial/blob/main/Exercicio11.ipynb\" target=\"_parent\"><img src=\"https://colab.research.google.com/assets/colab-badge.svg\" alt=\"Open In Colab\"/></a>"
      ]
    },
    {
      "cell_type": "markdown",
      "source": [
        "Faça um Programa que peça 2 números inteiros e um número real. Calcule e mostre:\n",
        "\n",
        "A - o produto do dobro do primeiro com metade do segundo.\n",
        "\n",
        "B - a soma do triplo do primeiro com o terceiro.\n",
        "\n",
        "C - o terceiro elevado ao cubo."
      ],
      "metadata": {
        "id": "jp2qrYqTEJNk"
      }
    },
    {
      "cell_type": "code",
      "source": [
        "import math"
      ],
      "metadata": {
        "id": "pYsKb8LhFf5r"
      },
      "execution_count": 2,
      "outputs": []
    },
    {
      "cell_type": "code",
      "execution_count": 3,
      "metadata": {
        "colab": {
          "base_uri": "https://localhost:8080/"
        },
        "id": "RZ-FEzvxECyI",
        "outputId": "a3add3f4-0097-4656-f669-f2bcce26de3a"
      },
      "outputs": [
        {
          "name": "stdout",
          "output_type": "stream",
          "text": [
            "Pirmeiro número inteiro: 3\n",
            "Segundo número inteiro: 12\n",
            "Digite um número real: 25.0\n"
          ]
        }
      ],
      "source": [
        "n1 = int(input('Pirmeiro número inteiro: '))\n",
        "n2 = int(input('Segundo número inteiro: '))\n",
        "n_real = float(input('Digite um número real: '))"
      ]
    },
    {
      "cell_type": "code",
      "source": [
        "produto = n1 * 2 * (n2 / 2)\n",
        "soma = n1 * 3 + n_real\n",
        "cubo = math.pow(n_real, 3)"
      ],
      "metadata": {
        "id": "rAOuPoieE73r"
      },
      "execution_count": 4,
      "outputs": []
    },
    {
      "cell_type": "code",
      "source": [
        "print(f'Produto do dobro do primeiro com metade do segundo = {produto}')\n",
        "print(f'Soma do triplo do primeiro com o terceiro = {soma}')\n",
        "print(f'Terceiro elevado ao cubo = {cubo}')"
      ],
      "metadata": {
        "colab": {
          "base_uri": "https://localhost:8080/"
        },
        "id": "L07Nf2cBFn_M",
        "outputId": "6deb52bd-d0b6-495f-bdee-5b3892ac41c4"
      },
      "execution_count": 7,
      "outputs": [
        {
          "output_type": "stream",
          "name": "stdout",
          "text": [
            "Produto do dobro do primeiro com metade do segundo = 36.0\n",
            "Soma do triplo do primeiro com o terceiro = 34.0\n",
            "Terceiro elevado ao cubo = 15625.0\n"
          ]
        }
      ]
    }
  ]
}