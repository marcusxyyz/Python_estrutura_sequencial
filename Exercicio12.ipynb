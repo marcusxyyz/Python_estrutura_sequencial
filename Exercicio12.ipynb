{
  "nbformat": 4,
  "nbformat_minor": 0,
  "metadata": {
    "colab": {
      "name": "Exercicio12.ipynb",
      "provenance": [],
      "collapsed_sections": [],
      "authorship_tag": "ABX9TyOoDrUJJ4i7WAFMXg81TKS9",
      "include_colab_link": true
    },
    "kernelspec": {
      "name": "python3",
      "display_name": "Python 3"
    },
    "language_info": {
      "name": "python"
    }
  },
  "cells": [
    {
      "cell_type": "markdown",
      "metadata": {
        "id": "view-in-github",
        "colab_type": "text"
      },
      "source": [
        "<a href=\"https://colab.research.google.com/github/marcusxyyz/Python_estrutura_sequencial/blob/main/Exercicio12.ipynb\" target=\"_parent\"><img src=\"https://colab.research.google.com/assets/colab-badge.svg\" alt=\"Open In Colab\"/></a>"
      ]
    },
    {
      "cell_type": "markdown",
      "source": [
        "Tendo como dados de entrada a altura de uma pessoa, construa um algoritmo que calcule seu peso ideal, usando a seguinte fórmula: (72.7*altura) - 58"
      ],
      "metadata": {
        "id": "jcw9FTK5Gvpz"
      }
    },
    {
      "cell_type": "code",
      "execution_count": 1,
      "metadata": {
        "colab": {
          "base_uri": "https://localhost:8080/"
        },
        "id": "M63DGGmDGvF3",
        "outputId": "86d81635-9d3e-412b-c721-8e37d5d6bcfd"
      },
      "outputs": [
        {
          "name": "stdout",
          "output_type": "stream",
          "text": [
            "Qual sua altura? 1.80\n"
          ]
        }
      ],
      "source": [
        "altura = float(input('Qual sua altura? '))\n",
        "peso_ideal = ( 72.7 * altura) - 58.0"
      ]
    },
    {
      "cell_type": "code",
      "source": [
        "print(f'Seu peso idela é {round(peso_ideal, 2)} Kg')"
      ],
      "metadata": {
        "colab": {
          "base_uri": "https://localhost:8080/"
        },
        "id": "jp-4Z1h-HP3K",
        "outputId": "9b6f90bf-ec0f-421f-ccc6-bdbff519096a"
      },
      "execution_count": 5,
      "outputs": [
        {
          "output_type": "stream",
          "name": "stdout",
          "text": [
            "Seu peso idela é 72.86 Kg\n"
          ]
        }
      ]
    }
  ]
}