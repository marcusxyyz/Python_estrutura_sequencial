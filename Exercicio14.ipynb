{
  "nbformat": 4,
  "nbformat_minor": 0,
  "metadata": {
    "colab": {
      "name": "Exercicio14.ipynb",
      "provenance": [],
      "authorship_tag": "ABX9TyNsGPA8auSdD4KnBJZee6OJ",
      "include_colab_link": true
    },
    "kernelspec": {
      "name": "python3",
      "display_name": "Python 3"
    },
    "language_info": {
      "name": "python"
    }
  },
  "cells": [
    {
      "cell_type": "markdown",
      "metadata": {
        "id": "view-in-github",
        "colab_type": "text"
      },
      "source": [
        "<a href=\"https://colab.research.google.com/github/marcusxyyz/Python_estrutura_sequencial/blob/main/Exercicio14.ipynb\" target=\"_parent\"><img src=\"https://colab.research.google.com/assets/colab-badge.svg\" alt=\"Open In Colab\"/></a>"
      ]
    },
    {
      "cell_type": "markdown",
      "source": [
        "João Papo-de-Pescador, homem de bem, comprou um microcomputador para controlar o rendimento diário de seu trabalho. Toda vez que ele traz um peso de peixes maior que o estabelecido pelo regulamento de pesca do estado de São Paulo (50 quilos) deve pagar uma multa de R$ 4,00 por quilo excedente. João precisa que você faça um programa que leia a variável peso (peso de peixes) e calcule o excesso. Gravar na variável excesso a quantidade de quilos além do limite e na variável multa o valor da multa que João deverá pagar. Imprima os dados do programa com as mensagens adequadas."
      ],
      "metadata": {
        "id": "XiXyO9SjI6oV"
      }
    },
    {
      "cell_type": "code",
      "execution_count": 5,
      "metadata": {
        "colab": {
          "base_uri": "https://localhost:8080/"
        },
        "id": "kHvWRierI4P_",
        "outputId": "b7499665-3a14-4efc-b626-cbe50bafb21f"
      },
      "outputs": [
        {
          "name": "stdout",
          "output_type": "stream",
          "text": [
            "Peso de peixes: 58.00\n"
          ]
        }
      ],
      "source": [
        "peso = float(input('Peso de peixes: '))\n",
        "excesso = peso - 50.00"
      ]
    },
    {
      "cell_type": "code",
      "source": [
        "print(f'O excesso foi {excesso}')\n",
        "multa = 0"
      ],
      "metadata": {
        "colab": {
          "base_uri": "https://localhost:8080/"
        },
        "id": "ZJsgZvBMJlsK",
        "outputId": "e0697b72-9653-4fe1-c65d-5a42db48b95b"
      },
      "execution_count": 6,
      "outputs": [
        {
          "output_type": "stream",
          "name": "stdout",
          "text": [
            "O excesso foi 8.0\n"
          ]
        }
      ]
    },
    {
      "cell_type": "code",
      "source": [
        "if excesso > 0:\n",
        "  multa = excesso * 4.00\n",
        "  print(f'Multa igual a R$ {multa}')\n",
        "else:\n",
        "  print(f'Não possui multa')"
      ],
      "metadata": {
        "colab": {
          "base_uri": "https://localhost:8080/"
        },
        "id": "YenEJZAzJ84S",
        "outputId": "fafe8d51-c5d8-4091-9c52-48df506eaa4e"
      },
      "execution_count": 7,
      "outputs": [
        {
          "output_type": "stream",
          "name": "stdout",
          "text": [
            "Multa igual a R$ 32.0\n"
          ]
        }
      ]
    }
  ]
}