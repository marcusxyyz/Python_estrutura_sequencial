{
  "nbformat": 4,
  "nbformat_minor": 0,
  "metadata": {
    "colab": {
      "name": "Exercicio04.ipynb",
      "provenance": [],
      "authorship_tag": "ABX9TyPj4h+Y0REOvsCPsoOg4RlC",
      "include_colab_link": true
    },
    "kernelspec": {
      "name": "python3",
      "display_name": "Python 3"
    },
    "language_info": {
      "name": "python"
    }
  },
  "cells": [
    {
      "cell_type": "markdown",
      "metadata": {
        "id": "view-in-github",
        "colab_type": "text"
      },
      "source": [
        "<a href=\"https://colab.research.google.com/github/marcusxyyz/Python_estrutura_sequencial/blob/main/Exercicio04.ipynb\" target=\"_parent\"><img src=\"https://colab.research.google.com/assets/colab-badge.svg\" alt=\"Open In Colab\"/></a>"
      ]
    },
    {
      "cell_type": "markdown",
      "source": [
        "Faça um Programa que peça as 4 notas bimestrais e mostre a média."
      ],
      "metadata": {
        "id": "41QdSFu33w3-"
      }
    },
    {
      "cell_type": "code",
      "execution_count": 1,
      "metadata": {
        "colab": {
          "base_uri": "https://localhost:8080/"
        },
        "id": "dJHdrT043u3L",
        "outputId": "05441a81-2d47-4343-901f-c1d755839e42"
      },
      "outputs": [
        {
          "name": "stdout",
          "output_type": "stream",
          "text": [
            "Informe a primeira nota: 10.0\n",
            "Informe a segunda nota: 9.0\n",
            "Informe a terceira nota: 8.00\n",
            "Informe a quarta nota: 7.0\n"
          ]
        }
      ],
      "source": [
        "n1 = float(input('Informe a primeira nota: '))\n",
        "n2 = float(input('Informe a segunda nota: '))\n",
        "n3 = float(input('Informe a terceira nota: '))\n",
        "n4 = float(input('Informe a quarta nota: '))"
      ]
    },
    {
      "cell_type": "code",
      "source": [
        "media = (n1 + n2 + n3 + n4) / 4.0"
      ],
      "metadata": {
        "id": "WFNpucgI4Th1"
      },
      "execution_count": 2,
      "outputs": []
    },
    {
      "cell_type": "code",
      "source": [
        "print(f'Media = {round(media, 2)}')"
      ],
      "metadata": {
        "colab": {
          "base_uri": "https://localhost:8080/"
        },
        "id": "sJiOBdYU4XUt",
        "outputId": "d54a153e-d198-4d69-ed5b-364718ded407"
      },
      "execution_count": 3,
      "outputs": [
        {
          "output_type": "stream",
          "name": "stdout",
          "text": [
            "Media = 8.5\n"
          ]
        }
      ]
    }
  ]
}